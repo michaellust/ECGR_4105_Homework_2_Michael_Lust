{
 "cells": [
  {
   "cell_type": "code",
   "execution_count": 1234,
   "id": "442aef5b",
   "metadata": {},
   "outputs": [],
   "source": [
    "#Homework Assignment 2\n",
    "#Michael Lust\n",
    "#Student ID: 801094861\n",
    "#4105 Intro to Machine Learning\n",
    "#October 28, 2021"
   ]
  },
  {
   "cell_type": "code",
   "execution_count": 1235,
   "id": "02569cb4",
   "metadata": {},
   "outputs": [],
   "source": [
    "import numpy as np\n",
    "import matplotlib.pyplot as plt\n",
    "import pandas as pd"
   ]
  },
  {
   "cell_type": "code",
   "execution_count": 1236,
   "id": "31189a58",
   "metadata": {},
   "outputs": [],
   "source": [
    "dataset = pd.read_csv(\"diabetes.csv\")"
   ]
  },
  {
   "cell_type": "code",
   "execution_count": 1237,
   "id": "3af29218",
   "metadata": {},
   "outputs": [
    {
     "data": {
      "text/html": [
       "<div>\n",
       "<style scoped>\n",
       "    .dataframe tbody tr th:only-of-type {\n",
       "        vertical-align: middle;\n",
       "    }\n",
       "\n",
       "    .dataframe tbody tr th {\n",
       "        vertical-align: top;\n",
       "    }\n",
       "\n",
       "    .dataframe thead th {\n",
       "        text-align: right;\n",
       "    }\n",
       "</style>\n",
       "<table border=\"1\" class=\"dataframe\">\n",
       "  <thead>\n",
       "    <tr style=\"text-align: right;\">\n",
       "      <th></th>\n",
       "      <th>Pregnancies</th>\n",
       "      <th>Glucose</th>\n",
       "      <th>BloodPressure</th>\n",
       "      <th>SkinThickness</th>\n",
       "      <th>Insulin</th>\n",
       "      <th>BMI</th>\n",
       "      <th>DiabetesPedigreeFunction</th>\n",
       "      <th>Age</th>\n",
       "      <th>Outcome</th>\n",
       "    </tr>\n",
       "  </thead>\n",
       "  <tbody>\n",
       "    <tr>\n",
       "      <th>0</th>\n",
       "      <td>6</td>\n",
       "      <td>148</td>\n",
       "      <td>72</td>\n",
       "      <td>35</td>\n",
       "      <td>0</td>\n",
       "      <td>33.6</td>\n",
       "      <td>0.627</td>\n",
       "      <td>50</td>\n",
       "      <td>1</td>\n",
       "    </tr>\n",
       "    <tr>\n",
       "      <th>1</th>\n",
       "      <td>1</td>\n",
       "      <td>85</td>\n",
       "      <td>66</td>\n",
       "      <td>29</td>\n",
       "      <td>0</td>\n",
       "      <td>26.6</td>\n",
       "      <td>0.351</td>\n",
       "      <td>31</td>\n",
       "      <td>0</td>\n",
       "    </tr>\n",
       "    <tr>\n",
       "      <th>2</th>\n",
       "      <td>8</td>\n",
       "      <td>183</td>\n",
       "      <td>64</td>\n",
       "      <td>0</td>\n",
       "      <td>0</td>\n",
       "      <td>23.3</td>\n",
       "      <td>0.672</td>\n",
       "      <td>32</td>\n",
       "      <td>1</td>\n",
       "    </tr>\n",
       "    <tr>\n",
       "      <th>3</th>\n",
       "      <td>1</td>\n",
       "      <td>89</td>\n",
       "      <td>66</td>\n",
       "      <td>23</td>\n",
       "      <td>94</td>\n",
       "      <td>28.1</td>\n",
       "      <td>0.167</td>\n",
       "      <td>21</td>\n",
       "      <td>0</td>\n",
       "    </tr>\n",
       "    <tr>\n",
       "      <th>4</th>\n",
       "      <td>0</td>\n",
       "      <td>137</td>\n",
       "      <td>40</td>\n",
       "      <td>35</td>\n",
       "      <td>168</td>\n",
       "      <td>43.1</td>\n",
       "      <td>2.288</td>\n",
       "      <td>33</td>\n",
       "      <td>1</td>\n",
       "    </tr>\n",
       "  </tbody>\n",
       "</table>\n",
       "</div>"
      ],
      "text/plain": [
       "   Pregnancies  Glucose  BloodPressure  SkinThickness  Insulin   BMI  \\\n",
       "0            6      148             72             35        0  33.6   \n",
       "1            1       85             66             29        0  26.6   \n",
       "2            8      183             64              0        0  23.3   \n",
       "3            1       89             66             23       94  28.1   \n",
       "4            0      137             40             35      168  43.1   \n",
       "\n",
       "   DiabetesPedigreeFunction  Age  Outcome  \n",
       "0                     0.627   50        1  \n",
       "1                     0.351   31        0  \n",
       "2                     0.672   32        1  \n",
       "3                     0.167   21        0  \n",
       "4                     2.288   33        1  "
      ]
     },
     "execution_count": 1237,
     "metadata": {},
     "output_type": "execute_result"
    }
   ],
   "source": [
    "dataset.head()"
   ]
  },
  {
   "cell_type": "code",
   "execution_count": 1238,
   "id": "98026fbd",
   "metadata": {},
   "outputs": [
    {
     "data": {
      "text/plain": [
       "768"
      ]
     },
     "execution_count": 1238,
     "metadata": {},
     "output_type": "execute_result"
    }
   ],
   "source": [
    "M = len(dataset)\n",
    "M"
   ]
  },
  {
   "cell_type": "code",
   "execution_count": 1239,
   "id": "f0a9de12",
   "metadata": {},
   "outputs": [
    {
     "data": {
      "text/html": [
       "<div>\n",
       "<style scoped>\n",
       "    .dataframe tbody tr th:only-of-type {\n",
       "        vertical-align: middle;\n",
       "    }\n",
       "\n",
       "    .dataframe tbody tr th {\n",
       "        vertical-align: top;\n",
       "    }\n",
       "\n",
       "    .dataframe thead th {\n",
       "        text-align: right;\n",
       "    }\n",
       "</style>\n",
       "<table border=\"1\" class=\"dataframe\">\n",
       "  <thead>\n",
       "    <tr style=\"text-align: right;\">\n",
       "      <th></th>\n",
       "      <th>Pregnancies</th>\n",
       "      <th>Glucose</th>\n",
       "      <th>BloodPressure</th>\n",
       "      <th>SkinThickness</th>\n",
       "      <th>Insulin</th>\n",
       "      <th>BMI</th>\n",
       "      <th>DiabetesPedigreeFunction</th>\n",
       "      <th>Age</th>\n",
       "      <th>Outcome</th>\n",
       "    </tr>\n",
       "  </thead>\n",
       "  <tbody>\n",
       "    <tr>\n",
       "      <th>0</th>\n",
       "      <td>6</td>\n",
       "      <td>148</td>\n",
       "      <td>72</td>\n",
       "      <td>35</td>\n",
       "      <td>0</td>\n",
       "      <td>33.6</td>\n",
       "      <td>0.627</td>\n",
       "      <td>50</td>\n",
       "      <td>1</td>\n",
       "    </tr>\n",
       "    <tr>\n",
       "      <th>1</th>\n",
       "      <td>1</td>\n",
       "      <td>85</td>\n",
       "      <td>66</td>\n",
       "      <td>29</td>\n",
       "      <td>0</td>\n",
       "      <td>26.6</td>\n",
       "      <td>0.351</td>\n",
       "      <td>31</td>\n",
       "      <td>0</td>\n",
       "    </tr>\n",
       "    <tr>\n",
       "      <th>2</th>\n",
       "      <td>8</td>\n",
       "      <td>183</td>\n",
       "      <td>64</td>\n",
       "      <td>0</td>\n",
       "      <td>0</td>\n",
       "      <td>23.3</td>\n",
       "      <td>0.672</td>\n",
       "      <td>32</td>\n",
       "      <td>1</td>\n",
       "    </tr>\n",
       "    <tr>\n",
       "      <th>3</th>\n",
       "      <td>1</td>\n",
       "      <td>89</td>\n",
       "      <td>66</td>\n",
       "      <td>23</td>\n",
       "      <td>94</td>\n",
       "      <td>28.1</td>\n",
       "      <td>0.167</td>\n",
       "      <td>21</td>\n",
       "      <td>0</td>\n",
       "    </tr>\n",
       "    <tr>\n",
       "      <th>4</th>\n",
       "      <td>0</td>\n",
       "      <td>137</td>\n",
       "      <td>40</td>\n",
       "      <td>35</td>\n",
       "      <td>168</td>\n",
       "      <td>43.1</td>\n",
       "      <td>2.288</td>\n",
       "      <td>33</td>\n",
       "      <td>1</td>\n",
       "    </tr>\n",
       "    <tr>\n",
       "      <th>5</th>\n",
       "      <td>5</td>\n",
       "      <td>116</td>\n",
       "      <td>74</td>\n",
       "      <td>0</td>\n",
       "      <td>0</td>\n",
       "      <td>25.6</td>\n",
       "      <td>0.201</td>\n",
       "      <td>30</td>\n",
       "      <td>0</td>\n",
       "    </tr>\n",
       "    <tr>\n",
       "      <th>6</th>\n",
       "      <td>3</td>\n",
       "      <td>78</td>\n",
       "      <td>50</td>\n",
       "      <td>32</td>\n",
       "      <td>88</td>\n",
       "      <td>31.0</td>\n",
       "      <td>0.248</td>\n",
       "      <td>26</td>\n",
       "      <td>1</td>\n",
       "    </tr>\n",
       "    <tr>\n",
       "      <th>7</th>\n",
       "      <td>10</td>\n",
       "      <td>115</td>\n",
       "      <td>0</td>\n",
       "      <td>0</td>\n",
       "      <td>0</td>\n",
       "      <td>35.3</td>\n",
       "      <td>0.134</td>\n",
       "      <td>29</td>\n",
       "      <td>0</td>\n",
       "    </tr>\n",
       "    <tr>\n",
       "      <th>8</th>\n",
       "      <td>2</td>\n",
       "      <td>197</td>\n",
       "      <td>70</td>\n",
       "      <td>45</td>\n",
       "      <td>543</td>\n",
       "      <td>30.5</td>\n",
       "      <td>0.158</td>\n",
       "      <td>53</td>\n",
       "      <td>1</td>\n",
       "    </tr>\n",
       "    <tr>\n",
       "      <th>9</th>\n",
       "      <td>8</td>\n",
       "      <td>125</td>\n",
       "      <td>96</td>\n",
       "      <td>0</td>\n",
       "      <td>0</td>\n",
       "      <td>0.0</td>\n",
       "      <td>0.232</td>\n",
       "      <td>54</td>\n",
       "      <td>1</td>\n",
       "    </tr>\n",
       "    <tr>\n",
       "      <th>10</th>\n",
       "      <td>4</td>\n",
       "      <td>110</td>\n",
       "      <td>92</td>\n",
       "      <td>0</td>\n",
       "      <td>0</td>\n",
       "      <td>37.6</td>\n",
       "      <td>0.191</td>\n",
       "      <td>30</td>\n",
       "      <td>0</td>\n",
       "    </tr>\n",
       "    <tr>\n",
       "      <th>11</th>\n",
       "      <td>10</td>\n",
       "      <td>168</td>\n",
       "      <td>74</td>\n",
       "      <td>0</td>\n",
       "      <td>0</td>\n",
       "      <td>38.0</td>\n",
       "      <td>0.537</td>\n",
       "      <td>34</td>\n",
       "      <td>1</td>\n",
       "    </tr>\n",
       "    <tr>\n",
       "      <th>12</th>\n",
       "      <td>10</td>\n",
       "      <td>139</td>\n",
       "      <td>80</td>\n",
       "      <td>0</td>\n",
       "      <td>0</td>\n",
       "      <td>27.1</td>\n",
       "      <td>1.441</td>\n",
       "      <td>57</td>\n",
       "      <td>0</td>\n",
       "    </tr>\n",
       "    <tr>\n",
       "      <th>13</th>\n",
       "      <td>1</td>\n",
       "      <td>189</td>\n",
       "      <td>60</td>\n",
       "      <td>23</td>\n",
       "      <td>846</td>\n",
       "      <td>30.1</td>\n",
       "      <td>0.398</td>\n",
       "      <td>59</td>\n",
       "      <td>1</td>\n",
       "    </tr>\n",
       "    <tr>\n",
       "      <th>14</th>\n",
       "      <td>5</td>\n",
       "      <td>166</td>\n",
       "      <td>72</td>\n",
       "      <td>19</td>\n",
       "      <td>175</td>\n",
       "      <td>25.8</td>\n",
       "      <td>0.587</td>\n",
       "      <td>51</td>\n",
       "      <td>1</td>\n",
       "    </tr>\n",
       "    <tr>\n",
       "      <th>15</th>\n",
       "      <td>7</td>\n",
       "      <td>100</td>\n",
       "      <td>0</td>\n",
       "      <td>0</td>\n",
       "      <td>0</td>\n",
       "      <td>30.0</td>\n",
       "      <td>0.484</td>\n",
       "      <td>32</td>\n",
       "      <td>1</td>\n",
       "    </tr>\n",
       "    <tr>\n",
       "      <th>16</th>\n",
       "      <td>0</td>\n",
       "      <td>118</td>\n",
       "      <td>84</td>\n",
       "      <td>47</td>\n",
       "      <td>230</td>\n",
       "      <td>45.8</td>\n",
       "      <td>0.551</td>\n",
       "      <td>31</td>\n",
       "      <td>1</td>\n",
       "    </tr>\n",
       "    <tr>\n",
       "      <th>17</th>\n",
       "      <td>7</td>\n",
       "      <td>107</td>\n",
       "      <td>74</td>\n",
       "      <td>0</td>\n",
       "      <td>0</td>\n",
       "      <td>29.6</td>\n",
       "      <td>0.254</td>\n",
       "      <td>31</td>\n",
       "      <td>1</td>\n",
       "    </tr>\n",
       "    <tr>\n",
       "      <th>18</th>\n",
       "      <td>1</td>\n",
       "      <td>103</td>\n",
       "      <td>30</td>\n",
       "      <td>38</td>\n",
       "      <td>83</td>\n",
       "      <td>43.3</td>\n",
       "      <td>0.183</td>\n",
       "      <td>33</td>\n",
       "      <td>0</td>\n",
       "    </tr>\n",
       "    <tr>\n",
       "      <th>19</th>\n",
       "      <td>1</td>\n",
       "      <td>115</td>\n",
       "      <td>70</td>\n",
       "      <td>30</td>\n",
       "      <td>96</td>\n",
       "      <td>34.6</td>\n",
       "      <td>0.529</td>\n",
       "      <td>32</td>\n",
       "      <td>1</td>\n",
       "    </tr>\n",
       "  </tbody>\n",
       "</table>\n",
       "</div>"
      ],
      "text/plain": [
       "    Pregnancies  Glucose  BloodPressure  SkinThickness  Insulin   BMI  \\\n",
       "0             6      148             72             35        0  33.6   \n",
       "1             1       85             66             29        0  26.6   \n",
       "2             8      183             64              0        0  23.3   \n",
       "3             1       89             66             23       94  28.1   \n",
       "4             0      137             40             35      168  43.1   \n",
       "5             5      116             74              0        0  25.6   \n",
       "6             3       78             50             32       88  31.0   \n",
       "7            10      115              0              0        0  35.3   \n",
       "8             2      197             70             45      543  30.5   \n",
       "9             8      125             96              0        0   0.0   \n",
       "10            4      110             92              0        0  37.6   \n",
       "11           10      168             74              0        0  38.0   \n",
       "12           10      139             80              0        0  27.1   \n",
       "13            1      189             60             23      846  30.1   \n",
       "14            5      166             72             19      175  25.8   \n",
       "15            7      100              0              0        0  30.0   \n",
       "16            0      118             84             47      230  45.8   \n",
       "17            7      107             74              0        0  29.6   \n",
       "18            1      103             30             38       83  43.3   \n",
       "19            1      115             70             30       96  34.6   \n",
       "\n",
       "    DiabetesPedigreeFunction  Age  Outcome  \n",
       "0                      0.627   50        1  \n",
       "1                      0.351   31        0  \n",
       "2                      0.672   32        1  \n",
       "3                      0.167   21        0  \n",
       "4                      2.288   33        1  \n",
       "5                      0.201   30        0  \n",
       "6                      0.248   26        1  \n",
       "7                      0.134   29        0  \n",
       "8                      0.158   53        1  \n",
       "9                      0.232   54        1  \n",
       "10                     0.191   30        0  \n",
       "11                     0.537   34        1  \n",
       "12                     1.441   57        0  \n",
       "13                     0.398   59        1  \n",
       "14                     0.587   51        1  \n",
       "15                     0.484   32        1  \n",
       "16                     0.551   31        1  \n",
       "17                     0.254   31        1  \n",
       "18                     0.183   33        0  \n",
       "19                     0.529   32        1  "
      ]
     },
     "execution_count": 1239,
     "metadata": {},
     "output_type": "execute_result"
    }
   ],
   "source": [
    "dataset.head(20)"
   ]
  },
  {
   "cell_type": "code",
   "execution_count": 1240,
   "id": "33797232",
   "metadata": {},
   "outputs": [
    {
     "data": {
      "text/plain": [
       "array([[6.000e+00, 1.480e+02, 7.200e+01, 3.500e+01, 0.000e+00, 3.360e+01,\n",
       "        6.270e-01, 5.000e+01],\n",
       "       [1.000e+00, 8.500e+01, 6.600e+01, 2.900e+01, 0.000e+00, 2.660e+01,\n",
       "        3.510e-01, 3.100e+01],\n",
       "       [8.000e+00, 1.830e+02, 6.400e+01, 0.000e+00, 0.000e+00, 2.330e+01,\n",
       "        6.720e-01, 3.200e+01],\n",
       "       [1.000e+00, 8.900e+01, 6.600e+01, 2.300e+01, 9.400e+01, 2.810e+01,\n",
       "        1.670e-01, 2.100e+01],\n",
       "       [0.000e+00, 1.370e+02, 4.000e+01, 3.500e+01, 1.680e+02, 4.310e+01,\n",
       "        2.288e+00, 3.300e+01],\n",
       "       [5.000e+00, 1.160e+02, 7.400e+01, 0.000e+00, 0.000e+00, 2.560e+01,\n",
       "        2.010e-01, 3.000e+01],\n",
       "       [3.000e+00, 7.800e+01, 5.000e+01, 3.200e+01, 8.800e+01, 3.100e+01,\n",
       "        2.480e-01, 2.600e+01],\n",
       "       [1.000e+01, 1.150e+02, 0.000e+00, 0.000e+00, 0.000e+00, 3.530e+01,\n",
       "        1.340e-01, 2.900e+01],\n",
       "       [2.000e+00, 1.970e+02, 7.000e+01, 4.500e+01, 5.430e+02, 3.050e+01,\n",
       "        1.580e-01, 5.300e+01],\n",
       "       [8.000e+00, 1.250e+02, 9.600e+01, 0.000e+00, 0.000e+00, 0.000e+00,\n",
       "        2.320e-01, 5.400e+01]])"
      ]
     },
     "execution_count": 1240,
     "metadata": {},
     "output_type": "execute_result"
    }
   ],
   "source": [
    "#Our Data set will consider Pregnacies through Age as Independent variables (X1-X8) and Outcome as Dependent (Y). \n",
    "X=dataset.iloc[:,[0,1,2,3,4,5,6,7]].values\n",
    "Y=dataset.iloc[:,8].values\n",
    "#see here: https://pandas.pydata.org/pandas-docs/stable/reference/api/pandas.DataFrame.\n",
    "X[0:10] #Shows the Array"
   ]
  },
  {
   "cell_type": "code",
   "execution_count": 1241,
   "id": "79bdab78",
   "metadata": {},
   "outputs": [
    {
     "data": {
      "text/plain": [
       "(614, 8)"
      ]
     },
     "execution_count": 1241,
     "metadata": {},
     "output_type": "execute_result"
    }
   ],
   "source": [
    "#Now we’ll split our Data set into Training Data and Test Data.\n",
    "#Logistic model and Test data will be used to validate our model. We’ll use Sklearn.\n",
    "from sklearn.model_selection import train_test_split\n",
    "\n",
    "np.random.seed(0)\n",
    "X_train, X_test, Y_train, Y_test = train_test_split(X,Y,train_size =0.8, test_size = 0.2, random_state = 1)\n",
    "X_train.shape"
   ]
  },
  {
   "cell_type": "code",
   "execution_count": 1242,
   "id": "4a94ee1f",
   "metadata": {},
   "outputs": [
    {
     "data": {
      "text/plain": [
       "(154, 8)"
      ]
     },
     "execution_count": 1242,
     "metadata": {},
     "output_type": "execute_result"
    }
   ],
   "source": [
    "X_test.shape"
   ]
  },
  {
   "cell_type": "code",
   "execution_count": 1243,
   "id": "cb28d8cc",
   "metadata": {},
   "outputs": [
    {
     "data": {
      "text/plain": [
       "(614,)"
      ]
     },
     "execution_count": 1243,
     "metadata": {},
     "output_type": "execute_result"
    }
   ],
   "source": [
    "Y_train.shape"
   ]
  },
  {
   "cell_type": "code",
   "execution_count": 1244,
   "id": "ad9fc8be",
   "metadata": {},
   "outputs": [
    {
     "data": {
      "text/plain": [
       "(154,)"
      ]
     },
     "execution_count": 1244,
     "metadata": {},
     "output_type": "execute_result"
    }
   ],
   "source": [
    "Y_test.shape"
   ]
  },
  {
   "cell_type": "code",
   "execution_count": 1245,
   "id": "9b33c0c3",
   "metadata": {},
   "outputs": [],
   "source": [
    "#Now we’ll do feature scaling to scale our data between -1 and 1 using standardization.\n",
    "#Here Scaling is important because there is a significant difference between explanatory variables.\n",
    "from sklearn.preprocessing import StandardScaler #Assignment said to use Standardization only.\n",
    "scalar_X = StandardScaler()\n",
    "X_train = scalar_X.fit_transform(X_train) #New X_train is scaled\n",
    "X_test = scalar_X.transform(X_test) #New X_test is scaled"
   ]
  },
  {
   "cell_type": "code",
   "execution_count": 1246,
   "id": "b0406943",
   "metadata": {},
   "outputs": [],
   "source": [
    "#Problem 1"
   ]
  },
  {
   "cell_type": "code",
   "execution_count": 1247,
   "id": "eadc2fc7",
   "metadata": {},
   "outputs": [
    {
     "data": {
      "text/plain": [
       "LogisticRegression(random_state=0)"
      ]
     },
     "execution_count": 1247,
     "metadata": {},
     "output_type": "execute_result"
    }
   ],
   "source": [
    "#Import LogisticRegression from sklearn.linear_model\n",
    "#Make an instance classifier of the object LogisticRegression and give random_state = 0 \n",
    "from sklearn.linear_model import LogisticRegression\n",
    "classifier_L = LogisticRegression(random_state=0)\n",
    "classifier_L.fit(X_train,Y_train)"
   ]
  },
  {
   "cell_type": "code",
   "execution_count": 1248,
   "id": "bfe80ad2",
   "metadata": {},
   "outputs": [],
   "source": [
    "Y_pred = classifier_L.predict(X_test)"
   ]
  },
  {
   "cell_type": "code",
   "execution_count": 1249,
   "id": "cc23f819",
   "metadata": {},
   "outputs": [
    {
     "data": {
      "text/plain": [
       "array([0, 0, 0, 0, 0, 0, 0, 0, 0], dtype=int64)"
      ]
     },
     "execution_count": 1249,
     "metadata": {},
     "output_type": "execute_result"
    }
   ],
   "source": [
    "Y_pred[0:9]"
   ]
  },
  {
   "cell_type": "code",
   "execution_count": 1250,
   "id": "58a6b0be",
   "metadata": {},
   "outputs": [
    {
     "data": {
      "text/plain": [
       "array([[89, 10],\n",
       "       [24, 31]], dtype=int64)"
      ]
     },
     "execution_count": 1250,
     "metadata": {},
     "output_type": "execute_result"
    }
   ],
   "source": [
    "#Using Confusion matrix representing binary classifiers so we can get accuracy of our model.\n",
    "from sklearn.metrics import confusion_matrix \n",
    "cnf_matrix = confusion_matrix(Y_test,Y_pred)\n",
    "cnf_matrix"
   ]
  },
  {
   "cell_type": "code",
   "execution_count": 1251,
   "id": "3f355127",
   "metadata": {},
   "outputs": [
    {
     "name": "stdout",
     "output_type": "stream",
     "text": [
      "Accuracy: 0.7792207792207793\n",
      "Precision: 0.7560975609756098\n",
      "Recall: 0.5636363636363636\n"
     ]
    }
   ],
   "source": [
    "#We are evaluating the model using model evaluation metrics for accuracy, precision, and recall.\n",
    "from sklearn import metrics\n",
    "print(\"Accuracy:\",metrics.accuracy_score(Y_test,Y_pred))\n",
    "print(\"Precision:\",metrics.precision_score(Y_test,Y_pred))\n",
    "print(\"Recall:\",metrics.recall_score(Y_test,Y_pred))"
   ]
  },
  {
   "cell_type": "code",
   "execution_count": 1252,
   "id": "0f867b00",
   "metadata": {},
   "outputs": [
    {
     "data": {
      "text/plain": [
       "Text(0.5, 257.44, 'Predicted label')"
      ]
     },
     "execution_count": 1252,
     "metadata": {},
     "output_type": "execute_result"
    },
    {
     "data": {
      "image/png": "[encoded data removed]",
      "text/plain": [
       "<Figure size 432x288 with 2 Axes>"
      ]
     },
     "metadata": {
      "needs_background": "light"
     },
     "output_type": "display_data"
    }
   ],
   "source": [
    "#Let's visualize the results of the model in the form of a confusion matrix using matplot\n",
    "#Here, you will visualize the confusion matrix using Heatmap.\n",
    "import seaborn as sns \n",
    "class_names = [0,1] # name of classes\n",
    "fig, ax = plt.subplots()\n",
    "tick_marks = np.arange(len(class_names))\n",
    "plt.xticks(tick_marks,class_names)\n",
    "plt.yticks(tick_marks,class_names)# create heatmap\n",
    "sns.heatmap(pd.DataFrame(cnf_matrix), annot = True, cmap = \"YlGnBu\", fmt = 'g')\n",
    "ax.xaxis.set_label_position(\"top\")\n",
    "plt.tight_layout()\n",
    "plt.title('Confusion matrix',y = 1.1)\n",
    "plt.ylabel('Actual label')\n",
    "plt.xlabel('Predicted label')"
   ]
  },
  {
   "cell_type": "code",
   "execution_count": 1253,
   "id": "9655b196",
   "metadata": {},
   "outputs": [
    {
     "data": {
      "text/plain": [
       "\"\\n#This code block seems to only work when comparing 2 variables. \\nimport warnings\\nwarnings.filterwarnings('ignore')\\nfrom matplotlib.colors import ListedColormap\\nX_set, Y_set = X_test,Y_test\\nX1,X2 = np.meshgrid(np.arange(start=X_set[:,0].min()-1,stop=X_set[:,0].max()),\\n                    np.arange(start=X_set[:,1].min()-1,stop=X_set[:,1].max()))\\n                                      #np.arange(start=X_set[:,2].min()-1,stop=X_set[:,1].max()),\\n                                      #np.arange(start=X_set[:,3].min()-1,stop=X_set[:,1].max()),\\n                                      #np.arange(start=X_set[:,4].min()-1,stop=X_set[:,1].max()),\\n                                      #np.arange(start=X_set[:,5].min()-1,stop=X_set[:,1].max()),\\n                                      #np.arange(start=X_set[:,6].min()-1,stop=X_set[:,1].max()),\\n                                      #np.arange(start=X_set[:,7].min()-1,stop=X_set[:,1].max()))\\n                                                \\nplt.contourf(X1,X2,classifier.predict(np.array([X1.ravel(),X2.ravel()]).T).reshape(X1,\\n                                            alpha=0.75,cmap=ListedColormap('red','green')))\\nplt.xlim(X1.min(),X1.max())\\nplt.ylim(X2.min(),X2.max()) \\nfor i, j in enumerate(np.unique(Y_set)):\\n             plt.scatter(X_set[Y_set==j,0],X_set[Y_set==j,1],\\n                         c=ListedColormap(('yellow','blue'))(i),label=j)\\nplt.title('Logistic Regression (Test set)')\\nplt.xlabel('Pregnancies, Glucose, Blood Pressure, Skin Thickness, Insulin, BMI, Diabetes, Pedigree Function, Age')\\nplt.ylabel('Outcome')\\nplt.legend()\\nplt.show()\\n\""
      ]
     },
     "execution_count": 1253,
     "metadata": {},
     "output_type": "execute_result"
    }
   ],
   "source": [
    "'''\n",
    "#This code block seems to only work when comparing 2 variables. \n",
    "import warnings\n",
    "warnings.filterwarnings('ignore')\n",
    "from matplotlib.colors import ListedColormap\n",
    "X_set, Y_set = X_test,Y_test\n",
    "X1,X2 = np.meshgrid(np.arange(start=X_set[:,0].min()-1,stop=X_set[:,0].max()),\n",
    "                    np.arange(start=X_set[:,1].min()-1,stop=X_set[:,1].max()))\n",
    "                                      #np.arange(start=X_set[:,2].min()-1,stop=X_set[:,1].max()),\n",
    "                                      #np.arange(start=X_set[:,3].min()-1,stop=X_set[:,1].max()),\n",
    "                                      #np.arange(start=X_set[:,4].min()-1,stop=X_set[:,1].max()),\n",
    "                                      #np.arange(start=X_set[:,5].min()-1,stop=X_set[:,1].max()),\n",
    "                                      #np.arange(start=X_set[:,6].min()-1,stop=X_set[:,1].max()),\n",
    "                                      #np.arange(start=X_set[:,7].min()-1,stop=X_set[:,1].max()))\n",
    "                                                \n",
    "plt.contourf(X1,X2,classifier.predict(np.array([X1.ravel(),X2.ravel()]).T).reshape(X1,\n",
    "                                            alpha=0.75,cmap=ListedColormap('red','green')))\n",
    "plt.xlim(X1.min(),X1.max())\n",
    "plt.ylim(X2.min(),X2.max()) \n",
    "for i, j in enumerate(np.unique(Y_set)):\n",
    "             plt.scatter(X_set[Y_set==j,0],X_set[Y_set==j,1],\n",
    "                         c=ListedColormap(('yellow','blue'))(i),label=j)\n",
    "plt.title('Logistic Regression (Test set)')\n",
    "plt.xlabel('Pregnancies, Glucose, Blood Pressure, Skin Thickness, Insulin, BMI, Diabetes, Pedigree Function, Age')\n",
    "plt.ylabel('Outcome')\n",
    "plt.legend()\n",
    "plt.show()\n",
    "'''"
   ]
  },
  {
   "cell_type": "code",
   "execution_count": 1254,
   "id": "98d32c23",
   "metadata": {},
   "outputs": [],
   "source": [
    "#Problem 2 "
   ]
  },
  {
   "cell_type": "code",
   "execution_count": 1255,
   "id": "2379285f",
   "metadata": {},
   "outputs": [
    {
     "data": {
      "text/plain": [
       "GaussianNB()"
      ]
     },
     "execution_count": 1255,
     "metadata": {},
     "output_type": "execute_result"
    }
   ],
   "source": [
    "#Using Naive Gaussian Bays\n",
    "from sklearn.naive_bayes import GaussianNB\n",
    "classifier_G = GaussianNB()\n",
    "classifier_G.fit(X_train,Y_train)"
   ]
  },
  {
   "cell_type": "code",
   "execution_count": 1256,
   "id": "6270f66a",
   "metadata": {},
   "outputs": [],
   "source": [
    "Y2_pred = classifier_G.predict(X_test)"
   ]
  },
  {
   "cell_type": "code",
   "execution_count": 1257,
   "id": "afab7c66",
   "metadata": {},
   "outputs": [
    {
     "data": {
      "text/plain": [
       "array([0, 0, 0, 0, 0, 0, 0, 0, 0, 0, 1, 0, 1, 1, 0, 1, 0, 0, 0, 0, 0, 0,\n",
       "       1, 0, 0, 0, 0, 1, 0, 0, 0, 0, 0, 1, 0, 1, 0, 0, 0, 1, 0, 0, 0, 1,\n",
       "       0, 0, 1, 1, 0, 0, 0, 0, 1, 0, 1, 0, 1, 0, 1, 0, 1, 0, 1, 0, 1, 0,\n",
       "       0, 0, 1, 1, 1, 1, 0, 0, 1, 0, 1, 0, 0, 1, 1, 0, 0, 0, 0, 1, 1, 1,\n",
       "       0, 0, 1, 0, 0, 0, 1, 0, 0, 0, 1, 0, 0, 1, 1, 0, 0, 0, 0, 1, 0, 0,\n",
       "       0, 0, 0, 0, 0, 0, 0, 0, 0, 1, 0, 1, 0, 1, 0, 0, 0, 0, 1, 0, 1, 0,\n",
       "       1, 0, 0, 0, 0, 1, 0, 0, 1, 0, 0, 1, 1, 1, 0, 0, 0, 0, 0, 1, 0, 0],\n",
       "      dtype=int64)"
      ]
     },
     "execution_count": 1257,
     "metadata": {},
     "output_type": "execute_result"
    }
   ],
   "source": [
    "Y2_pred"
   ]
  },
  {
   "cell_type": "code",
   "execution_count": 1258,
   "id": "072ab218",
   "metadata": {},
   "outputs": [
    {
     "data": {
      "text/plain": [
       "array([[85, 14],\n",
       "       [21, 34]], dtype=int64)"
      ]
     },
     "execution_count": 1258,
     "metadata": {},
     "output_type": "execute_result"
    }
   ],
   "source": [
    "conf_matrix = confusion_matrix(Y_test,Y2_pred)\n",
    "conf_matrix"
   ]
  },
  {
   "cell_type": "code",
   "execution_count": 1259,
   "id": "53b62c3f",
   "metadata": {},
   "outputs": [
    {
     "name": "stdout",
     "output_type": "stream",
     "text": [
      "Accuracy: 0.7727272727272727\n",
      "Precision: 0.7083333333333334\n",
      "Recall: 0.6181818181818182\n"
     ]
    }
   ],
   "source": [
    "#We are evaluating the model using model evaluation metrics for accuracy, precision, and recall.\n",
    "print(\"Accuracy:\",metrics.accuracy_score(Y_test,Y2_pred))\n",
    "print(\"Precision:\",metrics.precision_score(Y_test,Y2_pred))\n",
    "print(\"Recall:\",metrics.recall_score(Y_test,Y2_pred))"
   ]
  },
  {
   "cell_type": "code",
   "execution_count": 1260,
   "id": "8665a867",
   "metadata": {},
   "outputs": [
    {
     "data": {
      "text/plain": [
       "Text(0.5, 257.44, 'Predicted label')"
      ]
     },
     "execution_count": 1260,
     "metadata": {},
     "output_type": "execute_result"
    },
    {
     "data": {
      "image/png": "[encoded data removed]",
      "text/plain": [
       "<Figure size 432x288 with 2 Axes>"
      ]
     },
     "metadata": {
      "needs_background": "light"
     },
     "output_type": "display_data"
    }
   ],
   "source": [
    "#Visualizing model using confusion matrix via matplot.\n",
    "#Again, we will visualize the confusion matrix using Heatmap.\n",
    "class_names = [0,1] # name of classes\n",
    "fig, ax = plt.subplots()\n",
    "tick_marks = np.arange(len(class_names))\n",
    "plt.xticks(tick_marks,class_names)\n",
    "plt.yticks(tick_marks,class_names)# create heatmap\n",
    "sns.heatmap(pd.DataFrame(conf_matrix), annot = True, cmap = \"YlGnBu\", fmt = 'g')\n",
    "ax.xaxis.set_label_position(\"top\")\n",
    "plt.tight_layout()\n",
    "plt.title('Confusion matrix',y = 1.1)\n",
    "plt.ylabel('Actual label')\n",
    "plt.xlabel('Predicted label')"
   ]
  },
  {
   "cell_type": "code",
   "execution_count": 1261,
   "id": "de6cecd9",
   "metadata": {},
   "outputs": [],
   "source": [
    "#Problem 3 Using K-fold cross validation strategy for Logistic Regression"
   ]
  },
  {
   "cell_type": "code",
   "execution_count": 1262,
   "id": "9c4a9436",
   "metadata": {
    "scrolled": true
   },
   "outputs": [
    {
     "data": {
      "text/plain": [
       "array([[6.000e+00, 1.480e+02, 7.200e+01, 3.500e+01, 0.000e+00, 3.360e+01,\n",
       "        6.270e-01, 5.000e+01],\n",
       "       [1.000e+00, 8.500e+01, 6.600e+01, 2.900e+01, 0.000e+00, 2.660e+01,\n",
       "        3.510e-01, 3.100e+01],\n",
       "       [8.000e+00, 1.830e+02, 6.400e+01, 0.000e+00, 0.000e+00, 2.330e+01,\n",
       "        6.720e-01, 3.200e+01],\n",
       "       [1.000e+00, 8.900e+01, 6.600e+01, 2.300e+01, 9.400e+01, 2.810e+01,\n",
       "        1.670e-01, 2.100e+01],\n",
       "       [0.000e+00, 1.370e+02, 4.000e+01, 3.500e+01, 1.680e+02, 4.310e+01,\n",
       "        2.288e+00, 3.300e+01],\n",
       "       [5.000e+00, 1.160e+02, 7.400e+01, 0.000e+00, 0.000e+00, 2.560e+01,\n",
       "        2.010e-01, 3.000e+01],\n",
       "       [3.000e+00, 7.800e+01, 5.000e+01, 3.200e+01, 8.800e+01, 3.100e+01,\n",
       "        2.480e-01, 2.600e+01],\n",
       "       [1.000e+01, 1.150e+02, 0.000e+00, 0.000e+00, 0.000e+00, 3.530e+01,\n",
       "        1.340e-01, 2.900e+01],\n",
       "       [2.000e+00, 1.970e+02, 7.000e+01, 4.500e+01, 5.430e+02, 3.050e+01,\n",
       "        1.580e-01, 5.300e+01],\n",
       "       [8.000e+00, 1.250e+02, 9.600e+01, 0.000e+00, 0.000e+00, 0.000e+00,\n",
       "        2.320e-01, 5.400e+01]])"
      ]
     },
     "execution_count": 1262,
     "metadata": {},
     "output_type": "execute_result"
    }
   ],
   "source": [
    "#Our Data set will consider Pregnacies through Age as Independent variables (X1-X8) and Outcome as Dependent (Y). \n",
    "X=dataset.iloc[:,[0,1,2,3,4,5,6,7]].values\n",
    "Y=dataset.iloc[:,8].values\n",
    "#see here: https://pandas.pydata.org/pandas-docs/stable/reference/api/pandas.DataFrame.\n",
    "X[0:10] #Shows the Array"
   ]
  },
  {
   "cell_type": "code",
   "execution_count": 1263,
   "id": "2857c35d",
   "metadata": {},
   "outputs": [],
   "source": [
    "#Doing scaling first\n",
    "#Doing feature scaling to scale our data between -1 and 1 using standardization.\n",
    "#Here Scaling is important because there is a significant difference between explanatory variables.\n",
    "warnings.filterwarnings('ignore')\n",
    "\n",
    "scalar_X = StandardScaler()\n",
    "X = scalar_X.fit_transform(X) #New X is scaled\n",
    "#X_test = scalar_X.transform(X_test) #New X_test is scaled"
   ]
  },
  {
   "cell_type": "code",
   "execution_count": 1264,
   "id": "19c128bf",
   "metadata": {},
   "outputs": [
    {
     "data": {
      "text/plain": [
       "array([[ 0.63994726,  0.84832379,  0.14964075,  0.90726993, -0.69289057,\n",
       "         0.20401277,  0.46849198,  1.4259954 ],\n",
       "       [-0.84488505, -1.12339636, -0.16054575,  0.53090156, -0.69289057,\n",
       "        -0.68442195, -0.36506078, -0.19067191],\n",
       "       [ 1.23388019,  1.94372388, -0.26394125, -1.28821221, -0.69289057,\n",
       "        -1.10325546,  0.60439732, -0.10558415],\n",
       "       [-0.84488505, -0.99820778, -0.16054575,  0.15453319,  0.12330164,\n",
       "        -0.49404308, -0.92076261, -1.04154944],\n",
       "       [-1.14185152,  0.5040552 , -1.50468724,  0.90726993,  0.76583594,\n",
       "         1.4097456 ,  5.4849091 , -0.0204964 ],\n",
       "       [ 0.3429808 , -0.15318486,  0.25303625, -1.28821221, -0.69289057,\n",
       "        -0.81134119, -0.81807858, -0.27575966],\n",
       "       [-0.25095213, -1.34247638, -0.98770975,  0.71908574,  0.07120427,\n",
       "        -0.12597727, -0.676133  , -0.61611067],\n",
       "       [ 1.82781311, -0.184482  , -3.57259724, -1.28821221, -0.69289057,\n",
       "         0.41977549, -1.02042653, -0.36084741],\n",
       "       [-0.54791859,  2.38188392,  0.04624525,  1.53455054,  4.02192191,\n",
       "        -0.18943689, -0.94794368,  1.68125866],\n",
       "       [ 1.23388019,  0.12848945,  1.39038675, -1.28821221, -0.69289057,\n",
       "        -4.06047387, -0.7244549 ,  1.76634642]])"
      ]
     },
     "execution_count": 1264,
     "metadata": {},
     "output_type": "execute_result"
    }
   ],
   "source": [
    "X[0:10] #Shows the Array after scaling"
   ]
  },
  {
   "cell_type": "code",
   "execution_count": 1265,
   "id": "6c7e534e",
   "metadata": {},
   "outputs": [
    {
     "data": {
      "text/plain": [
       "array([1, 0, 1, 0, 1, 0, 1, 0, 1, 1], dtype=int64)"
      ]
     },
     "execution_count": 1265,
     "metadata": {},
     "output_type": "execute_result"
    }
   ],
   "source": [
    "Y[0:10] #Shows the Array"
   ]
  },
  {
   "cell_type": "code",
   "execution_count": 1266,
   "id": "056deb5c",
   "metadata": {},
   "outputs": [],
   "source": [
    "#Part A n = 5 folds."
   ]
  },
  {
   "cell_type": "code",
   "execution_count": 1267,
   "id": "0b8eeaf4",
   "metadata": {},
   "outputs": [
    {
     "name": "stdout",
     "output_type": "stream",
     "text": [
      "KFold(n_splits=5, random_state=None, shuffle=False)\n"
     ]
    },
    {
     "data": {
      "text/plain": [
       "(615, 8)"
      ]
     },
     "execution_count": 1267,
     "metadata": {},
     "output_type": "execute_result"
    }
   ],
   "source": [
    "#Import K-fold cross validation from sklearn.model_selection\n",
    "#Info gathered at https://scikit-learn.org/stable/modules/generated/sklearn.model_selection.KFold.html\n",
    "\n",
    "#Doing K-5 folds\n",
    "from sklearn.model_selection import KFold\n",
    "X_kfold = X\n",
    "Y_kfold = Y\n",
    "kf = KFold(n_splits=5)\n",
    "kf.get_n_splits(X)\n",
    "\n",
    "print(kf) \n",
    "#n_splits is the number of folds for cross validation\n",
    "#shuffle is a boolean expression to determine whether the data is shuffled before splitting into folds.\n",
    "#random_state allows affects the ordering of the indices, which controls the randomness of each fold.\n",
    "\n",
    "for train_index, test_index in kf.split(X):\n",
    "    X_train, X_test = X_kfold[train_index], X_kfold[test_index]\n",
    "    Y_train, Y_test = Y_kfold[train_index], Y_kfold[test_index]\n",
    "X_train.shape"
   ]
  },
  {
   "cell_type": "code",
   "execution_count": 1268,
   "id": "aac5a724",
   "metadata": {},
   "outputs": [],
   "source": [
    "#Running Machine Learning Logistic Regression for K-Folds.\n",
    "classifier_L.fit(X_train,Y_train)\n",
    "Y3_pred = classifier_L.predict(X_test)"
   ]
  },
  {
   "cell_type": "code",
   "execution_count": 1269,
   "id": "ea61e9a7",
   "metadata": {},
   "outputs": [
    {
     "data": {
      "text/plain": [
       "array([0, 0, 0, 1, 0, 0, 0, 1, 0, 0, 0, 0, 0, 0, 0, 0, 0, 0, 0, 0, 0, 0,\n",
       "       0, 0, 0, 0, 0, 0, 0, 0, 1, 0, 1, 0, 0, 0, 0, 0, 0, 0, 1, 0, 0, 1,\n",
       "       0, 1, 1, 1, 1, 0, 0, 1, 0, 0, 1, 1, 0, 0, 1, 0, 1, 1, 0, 0, 0, 0,\n",
       "       1, 0, 0, 0, 0, 0, 0, 0, 1, 0, 1, 0, 1, 0, 0, 1, 0, 0, 1, 0, 0, 1,\n",
       "       1, 0, 0, 0, 0, 1, 0, 0, 0, 1, 0, 0, 1, 1, 0, 0, 0, 0, 0, 0, 0, 0,\n",
       "       0, 0, 0, 0, 0, 0, 0, 1, 0, 0, 0, 0, 0, 0, 0, 1, 0, 0, 1, 1, 0, 1,\n",
       "       0, 1, 0, 1, 0, 0, 1, 1, 0, 0, 0, 0, 1, 0, 1, 0, 0, 0, 0, 0, 0],\n",
       "      dtype=int64)"
      ]
     },
     "execution_count": 1269,
     "metadata": {},
     "output_type": "execute_result"
    }
   ],
   "source": [
    "Y3_pred"
   ]
  },
  {
   "cell_type": "code",
   "execution_count": 1270,
   "id": "3defbce0",
   "metadata": {},
   "outputs": [
    {
     "data": {
      "text/plain": [
       "array([[89, 10],\n",
       "       [25, 29]], dtype=int64)"
      ]
     },
     "execution_count": 1270,
     "metadata": {},
     "output_type": "execute_result"
    }
   ],
   "source": [
    "conf_matrix = confusion_matrix(Y_test,Y3_pred)\n",
    "conf_matrix"
   ]
  },
  {
   "cell_type": "code",
   "execution_count": 1271,
   "id": "2290f2c3",
   "metadata": {},
   "outputs": [
    {
     "name": "stdout",
     "output_type": "stream",
     "text": [
      "Accuracy: 0.7712418300653595\n",
      "Precision: 0.7435897435897436\n",
      "Recall: 0.5370370370370371\n"
     ]
    }
   ],
   "source": [
    "#We are evaluating the model using model evaluation metrics for accuracy, precision, and recall.\n",
    "print(\"Accuracy:\",metrics.accuracy_score(Y_test,Y3_pred))\n",
    "print(\"Precision:\",metrics.precision_score(Y_test,Y3_pred))\n",
    "print(\"Recall:\",metrics.recall_score(Y_test,Y3_pred))"
   ]
  },
  {
   "cell_type": "code",
   "execution_count": 1272,
   "id": "08acc6c3",
   "metadata": {},
   "outputs": [
    {
     "data": {
      "text/plain": [
       "Text(0.5, 257.44, 'Predicted label')"
      ]
     },
     "execution_count": 1272,
     "metadata": {},
     "output_type": "execute_result"
    },
    {
     "data": {
      "image/png": "[encoded data removed]",
      "text/plain": [
       "<Figure size 432x288 with 2 Axes>"
      ]
     },
     "metadata": {
      "needs_background": "light"
     },
     "output_type": "display_data"
    }
   ],
   "source": [
    "#Visualizing model using confusion matrix via matplot.\n",
    "#Again, we will visualize the confusion matrix using Heatmap.\n",
    "class_names = [0,1] # name of classes\n",
    "fig, ax = plt.subplots()\n",
    "tick_marks = np.arange(len(class_names))\n",
    "plt.xticks(tick_marks,class_names)\n",
    "plt.yticks(tick_marks,class_names)# create heatmap\n",
    "sns.heatmap(pd.DataFrame(conf_matrix), annot = True, cmap = \"YlGnBu\", fmt = 'g')\n",
    "ax.xaxis.set_label_position(\"top\")\n",
    "plt.tight_layout()\n",
    "plt.title('Confusion matrix',y = 1.1)\n",
    "plt.ylabel('Actual label')\n",
    "plt.xlabel('Predicted label')"
   ]
  },
  {
   "cell_type": "code",
   "execution_count": 1273,
   "id": "a06aa1a1",
   "metadata": {},
   "outputs": [],
   "source": [
    "#Part B n = 10 folds."
   ]
  },
  {
   "cell_type": "code",
   "execution_count": 1274,
   "id": "9cca073e",
   "metadata": {},
   "outputs": [
    {
     "name": "stdout",
     "output_type": "stream",
     "text": [
      "KFold(n_splits=10, random_state=None, shuffle=False)\n"
     ]
    },
    {
     "data": {
      "text/plain": [
       "(692, 8)"
      ]
     },
     "execution_count": 1274,
     "metadata": {},
     "output_type": "execute_result"
    }
   ],
   "source": [
    "#Doing K-10 folds\n",
    "X_kfold = X\n",
    "Y_kfold = Y\n",
    "kf = KFold(n_splits=10)\n",
    "kf.get_n_splits(X)\n",
    "\n",
    "print(kf) \n",
    "#n_splits is the number of folds for cross validation\n",
    "#shuffle is a boolean expression to determine whether the data is shuffled before splitting into folds.\n",
    "#random_state allows affects the ordering of the indices, which controls the randomness of each fold.\n",
    "\n",
    "for train_index, test_index in kf.split(X):\n",
    "    X_train, X_test = X_kfold[train_index], X_kfold[test_index]\n",
    "    Y_train, Y_test = Y_kfold[train_index], Y_kfold[test_index]\n",
    "X_train.shape"
   ]
  },
  {
   "cell_type": "code",
   "execution_count": 1275,
   "id": "c1e020be",
   "metadata": {},
   "outputs": [],
   "source": [
    "#Running Machine Learning Logistic Regression for K-Folds.\n",
    "classifier_L.fit(X_train,Y_train)\n",
    "Y3_pred = classifier_L.predict(X_test)"
   ]
  },
  {
   "cell_type": "code",
   "execution_count": 1276,
   "id": "7c6f4cd5",
   "metadata": {},
   "outputs": [
    {
     "data": {
      "text/plain": [
       "array([0, 1, 0, 0, 1, 0, 0, 1, 0, 0, 1, 1, 0, 0, 0, 0, 1, 0, 0, 0, 1, 0,\n",
       "       0, 1, 1, 0, 0, 0, 0, 0, 0, 0, 0, 0, 0, 0, 0, 0, 0, 0, 1, 0, 0, 0,\n",
       "       0, 0, 0, 0, 1, 0, 0, 1, 1, 0, 1, 0, 1, 1, 1, 0, 0, 1, 1, 0, 0, 0,\n",
       "       0, 1, 0, 1, 0, 0, 0, 0, 0, 0], dtype=int64)"
      ]
     },
     "execution_count": 1276,
     "metadata": {},
     "output_type": "execute_result"
    }
   ],
   "source": [
    "Y3_pred"
   ]
  },
  {
   "cell_type": "code",
   "execution_count": 1277,
   "id": "51b52830",
   "metadata": {},
   "outputs": [
    {
     "data": {
      "text/plain": [
       "array([[43,  3],\n",
       "       [12, 18]], dtype=int64)"
      ]
     },
     "execution_count": 1277,
     "metadata": {},
     "output_type": "execute_result"
    }
   ],
   "source": [
    "conf_matrix = confusion_matrix(Y_test,Y3_pred)\n",
    "conf_matrix"
   ]
  },
  {
   "cell_type": "code",
   "execution_count": 1278,
   "id": "fd2e8f6c",
   "metadata": {},
   "outputs": [
    {
     "name": "stdout",
     "output_type": "stream",
     "text": [
      "Accuracy: 0.8026315789473685\n",
      "Precision: 0.8571428571428571\n",
      "Recall: 0.6\n"
     ]
    }
   ],
   "source": [
    "#We are evaluating the model using model evaluation metrics for accuracy, precision, and recall.\n",
    "print(\"Accuracy:\",metrics.accuracy_score(Y_test,Y3_pred))\n",
    "print(\"Precision:\",metrics.precision_score(Y_test,Y3_pred))\n",
    "print(\"Recall:\",metrics.recall_score(Y_test,Y3_pred))"
   ]
  },
  {
   "cell_type": "code",
   "execution_count": 1279,
   "id": "412aa389",
   "metadata": {},
   "outputs": [
    {
     "data": {
      "text/plain": [
       "Text(0.5, 257.44, 'Predicted label')"
      ]
     },
     "execution_count": 1279,
     "metadata": {},
     "output_type": "execute_result"
    },
    {
     "data": {
      "image/png": "[encoded data removed]",
      "text/plain": [
       "<Figure size 432x288 with 2 Axes>"
      ]
     },
     "metadata": {
      "needs_background": "light"
     },
     "output_type": "display_data"
    }
   ],
   "source": [
    "#Visualizing model using confusion matrix via matplot.\n",
    "#Again, we will visualize the confusion matrix using Heatmap.\n",
    "class_names = [0,1] # name of classes\n",
    "fig, ax = plt.subplots()\n",
    "tick_marks = np.arange(len(class_names))\n",
    "plt.xticks(tick_marks,class_names)\n",
    "plt.yticks(tick_marks,class_names)# create heatmap\n",
    "sns.heatmap(pd.DataFrame(conf_matrix), annot = True, cmap = \"YlGnBu\", fmt = 'g')\n",
    "ax.xaxis.set_label_position(\"top\")\n",
    "plt.tight_layout()\n",
    "plt.title('Confusion matrix',y = 1.1)\n",
    "plt.ylabel('Actual label')\n",
    "plt.xlabel('Predicted label')"
   ]
  },
  {
   "cell_type": "code",
   "execution_count": 1280,
   "id": "36acc25f",
   "metadata": {},
   "outputs": [],
   "source": [
    "#Problem 4 Using K-fold cross validation strategy for Naive Bays"
   ]
  },
  {
   "cell_type": "code",
   "execution_count": 1281,
   "id": "90bcff35",
   "metadata": {},
   "outputs": [
    {
     "data": {
      "text/plain": [
       "array([[ 0.63994726,  0.84832379,  0.14964075,  0.90726993, -0.69289057,\n",
       "         0.20401277,  0.46849198,  1.4259954 ],\n",
       "       [-0.84488505, -1.12339636, -0.16054575,  0.53090156, -0.69289057,\n",
       "        -0.68442195, -0.36506078, -0.19067191],\n",
       "       [ 1.23388019,  1.94372388, -0.26394125, -1.28821221, -0.69289057,\n",
       "        -1.10325546,  0.60439732, -0.10558415],\n",
       "       [-0.84488505, -0.99820778, -0.16054575,  0.15453319,  0.12330164,\n",
       "        -0.49404308, -0.92076261, -1.04154944],\n",
       "       [-1.14185152,  0.5040552 , -1.50468724,  0.90726993,  0.76583594,\n",
       "         1.4097456 ,  5.4849091 , -0.0204964 ],\n",
       "       [ 0.3429808 , -0.15318486,  0.25303625, -1.28821221, -0.69289057,\n",
       "        -0.81134119, -0.81807858, -0.27575966],\n",
       "       [-0.25095213, -1.34247638, -0.98770975,  0.71908574,  0.07120427,\n",
       "        -0.12597727, -0.676133  , -0.61611067],\n",
       "       [ 1.82781311, -0.184482  , -3.57259724, -1.28821221, -0.69289057,\n",
       "         0.41977549, -1.02042653, -0.36084741],\n",
       "       [-0.54791859,  2.38188392,  0.04624525,  1.53455054,  4.02192191,\n",
       "        -0.18943689, -0.94794368,  1.68125866],\n",
       "       [ 1.23388019,  0.12848945,  1.39038675, -1.28821221, -0.69289057,\n",
       "        -4.06047387, -0.7244549 ,  1.76634642]])"
      ]
     },
     "execution_count": 1281,
     "metadata": {},
     "output_type": "execute_result"
    }
   ],
   "source": [
    "X[0:10] #Shows the Array"
   ]
  },
  {
   "cell_type": "code",
   "execution_count": 1282,
   "id": "7ffb60e9",
   "metadata": {},
   "outputs": [
    {
     "data": {
      "text/plain": [
       "array([1, 0, 1, 0, 1, 0, 1, 0, 1, 1], dtype=int64)"
      ]
     },
     "execution_count": 1282,
     "metadata": {},
     "output_type": "execute_result"
    }
   ],
   "source": [
    "Y[0:10] #Shows the Array"
   ]
  },
  {
   "cell_type": "code",
   "execution_count": 1283,
   "id": "d6c7c108",
   "metadata": {},
   "outputs": [],
   "source": [
    "#Part A n = 5 folds."
   ]
  },
  {
   "cell_type": "code",
   "execution_count": 1284,
   "id": "9994e283",
   "metadata": {},
   "outputs": [
    {
     "name": "stdout",
     "output_type": "stream",
     "text": [
      "KFold(n_splits=5, random_state=None, shuffle=False)\n"
     ]
    },
    {
     "data": {
      "text/plain": [
       "(615, 8)"
      ]
     },
     "execution_count": 1284,
     "metadata": {},
     "output_type": "execute_result"
    }
   ],
   "source": [
    "#Import K-fold cross validation from sklearn.model_selection\n",
    "#Info gathered at https://scikit-learn.org/stable/modules/generated/sklearn.model_selection.KFold.html\n",
    "\n",
    "#Doing K-5 folds\n",
    "from sklearn.model_selection import KFold\n",
    "X_kfold = X\n",
    "Y_kfold = Y\n",
    "kf = KFold(n_splits=5)\n",
    "kf.get_n_splits(X)\n",
    "\n",
    "print(kf) \n",
    "#n_splits is the number of folds for cross validation\n",
    "#shuffle is a boolean expression to determine whether the data is shuffled before splitting into folds.\n",
    "#random_state allows affects the ordering of the indices, which controls the randomness of each fold.\n",
    "\n",
    "for train_index, test_index in kf.split(X):\n",
    "    X_train, X_test = X_kfold[train_index], X_kfold[test_index]\n",
    "    Y_train, Y_test = Y_kfold[train_index], Y_kfold[test_index]\n",
    "X_train.shape"
   ]
  },
  {
   "cell_type": "code",
   "execution_count": 1285,
   "id": "7a3fbbca",
   "metadata": {},
   "outputs": [],
   "source": [
    "#Running Machine Naive Gaussian Bays for K-Folds.\n",
    "classifier_G.fit(X_train,Y_train)\n",
    "Y4_pred = classifier_G.predict(X_test)"
   ]
  },
  {
   "cell_type": "code",
   "execution_count": 1286,
   "id": "623a77ac",
   "metadata": {},
   "outputs": [
    {
     "data": {
      "text/plain": [
       "array([0, 0, 0, 1, 0, 0, 1, 1, 0, 0, 0, 0, 0, 0, 0, 0, 0, 0, 0, 0, 1, 0,\n",
       "       0, 0, 0, 0, 0, 0, 0, 0, 1, 0, 1, 1, 0, 0, 0, 0, 0, 0, 1, 0, 1, 1,\n",
       "       0, 1, 1, 1, 1, 0, 0, 0, 0, 0, 1, 1, 0, 0, 1, 0, 1, 1, 0, 0, 0, 0,\n",
       "       1, 0, 0, 0, 0, 0, 0, 0, 1, 0, 1, 0, 1, 0, 1, 0, 0, 0, 0, 0, 0, 1,\n",
       "       1, 0, 0, 0, 0, 1, 0, 1, 0, 1, 0, 0, 1, 1, 0, 0, 0, 0, 0, 0, 0, 0,\n",
       "       0, 0, 0, 0, 0, 0, 0, 1, 0, 0, 0, 0, 0, 0, 0, 1, 0, 0, 1, 1, 1, 1,\n",
       "       0, 1, 0, 0, 0, 0, 1, 1, 1, 1, 0, 0, 1, 0, 1, 0, 1, 0, 0, 0, 0],\n",
       "      dtype=int64)"
      ]
     },
     "execution_count": 1286,
     "metadata": {},
     "output_type": "execute_result"
    }
   ],
   "source": [
    "Y4_pred"
   ]
  },
  {
   "cell_type": "code",
   "execution_count": 1287,
   "id": "7f3921d4",
   "metadata": {},
   "outputs": [
    {
     "data": {
      "text/plain": [
       "array([[84, 15],\n",
       "       [24, 30]], dtype=int64)"
      ]
     },
     "execution_count": 1287,
     "metadata": {},
     "output_type": "execute_result"
    }
   ],
   "source": [
    "conf_matrix = confusion_matrix(Y_test,Y4_pred)\n",
    "conf_matrix"
   ]
  },
  {
   "cell_type": "code",
   "execution_count": 1288,
   "id": "792c4157",
   "metadata": {},
   "outputs": [
    {
     "name": "stdout",
     "output_type": "stream",
     "text": [
      "Accuracy: 0.7450980392156863\n",
      "Precision: 0.6666666666666666\n",
      "Recall: 0.5555555555555556\n"
     ]
    }
   ],
   "source": [
    "#We are evaluating the model using model evaluation metrics for accuracy, precision, and recall.\n",
    "print(\"Accuracy:\",metrics.accuracy_score(Y_test,Y4_pred))\n",
    "print(\"Precision:\",metrics.precision_score(Y_test,Y4_pred))\n",
    "print(\"Recall:\",metrics.recall_score(Y_test,Y4_pred))"
   ]
  },
  {
   "cell_type": "code",
   "execution_count": 1289,
   "id": "020c9b9d",
   "metadata": {},
   "outputs": [
    {
     "data": {
      "text/plain": [
       "Text(0.5, 257.44, 'Predicted label')"
      ]
     },
     "execution_count": 1289,
     "metadata": {},
     "output_type": "execute_result"
    },
    {
     "data": {
      "image/png": "[encoded data removed]",
      "text/plain": [
       "<Figure size 432x288 with 2 Axes>"
      ]
     },
     "metadata": {
      "needs_background": "light"
     },
     "output_type": "display_data"
    }
   ],
   "source": [
    "#Visualizing model using confusion matrix via matplot.\n",
    "#Again, we will visualize the confusion matrix using Heatmap.\n",
    "class_names = [0,1] # name of classes\n",
    "fig, ax = plt.subplots()\n",
    "tick_marks = np.arange(len(class_names))\n",
    "plt.xticks(tick_marks,class_names)\n",
    "plt.yticks(tick_marks,class_names)# create heatmap\n",
    "sns.heatmap(pd.DataFrame(conf_matrix), annot = True, cmap = \"YlGnBu\", fmt = 'g')\n",
    "ax.xaxis.set_label_position(\"top\")\n",
    "plt.tight_layout()\n",
    "plt.title('Confusion matrix',y = 1.1)\n",
    "plt.ylabel('Actual label')\n",
    "plt.xlabel('Predicted label')"
   ]
  },
  {
   "cell_type": "code",
   "execution_count": 1290,
   "id": "7841a1ad",
   "metadata": {},
   "outputs": [],
   "source": [
    "#Part B n = 10 folds"
   ]
  },
  {
   "cell_type": "code",
   "execution_count": 1291,
   "id": "4159eb44",
   "metadata": {},
   "outputs": [
    {
     "name": "stdout",
     "output_type": "stream",
     "text": [
      "KFold(n_splits=10, random_state=None, shuffle=False)\n"
     ]
    },
    {
     "data": {
      "text/plain": [
       "(692, 8)"
      ]
     },
     "execution_count": 1291,
     "metadata": {},
     "output_type": "execute_result"
    }
   ],
   "source": [
    "#Doing K-10 folds\n",
    "X_kfold = X\n",
    "Y_kfold = Y\n",
    "kf = KFold(n_splits=10)\n",
    "kf.get_n_splits(X)\n",
    "\n",
    "print(kf) \n",
    "#n_splits is the number of folds for cross validation\n",
    "#shuffle is a boolean expression to determine whether the data is shuffled before splitting into folds.\n",
    "#random_state allows affects the ordering of the indices, which controls the randomness of each fold.\n",
    "\n",
    "for train_index, test_index in kf.split(X):\n",
    "    X_train, X_test = X_kfold[train_index], X_kfold[test_index]\n",
    "    Y_train, Y_test = Y_kfold[train_index], Y_kfold[test_index]\n",
    "X_train.shape"
   ]
  },
  {
   "cell_type": "code",
   "execution_count": 1292,
   "id": "6fd86c87",
   "metadata": {},
   "outputs": [],
   "source": [
    "#Running Machine Naive Gaussian Bays for K-Folds.\n",
    "classifier_G.fit(X_train,Y_train)\n",
    "Y4_pred = classifier_G.predict(X_test)"
   ]
  },
  {
   "cell_type": "code",
   "execution_count": 1293,
   "id": "24a07bfb",
   "metadata": {},
   "outputs": [
    {
     "data": {
      "text/plain": [
       "array([0, 1, 0, 1, 0, 0, 0, 0, 0, 0, 1, 1, 0, 0, 0, 0, 1, 0, 1, 0, 1, 0,\n",
       "       0, 1, 1, 0, 0, 0, 0, 0, 0, 0, 0, 0, 0, 0, 0, 0, 0, 0, 1, 0, 0, 0,\n",
       "       0, 0, 0, 0, 1, 0, 0, 1, 1, 1, 1, 0, 1, 0, 0, 0, 0, 1, 1, 1, 1, 0,\n",
       "       0, 1, 0, 1, 0, 1, 0, 0, 0, 0], dtype=int64)"
      ]
     },
     "execution_count": 1293,
     "metadata": {},
     "output_type": "execute_result"
    }
   ],
   "source": [
    "Y4_pred"
   ]
  },
  {
   "cell_type": "code",
   "execution_count": 1294,
   "id": "23850290",
   "metadata": {},
   "outputs": [
    {
     "data": {
      "text/plain": [
       "array([[40,  6],\n",
       "       [13, 17]], dtype=int64)"
      ]
     },
     "execution_count": 1294,
     "metadata": {},
     "output_type": "execute_result"
    }
   ],
   "source": [
    "conf_matrix = confusion_matrix(Y_test,Y4_pred)\n",
    "conf_matrix"
   ]
  },
  {
   "cell_type": "code",
   "execution_count": 1295,
   "id": "caab96a9",
   "metadata": {},
   "outputs": [
    {
     "name": "stdout",
     "output_type": "stream",
     "text": [
      "Accuracy: 0.75\n",
      "Precision: 0.7391304347826086\n",
      "Recall: 0.5666666666666667\n"
     ]
    }
   ],
   "source": [
    "#We are evaluating the model using model evaluation metrics for accuracy, precision, and recall.\n",
    "print(\"Accuracy:\",metrics.accuracy_score(Y_test,Y4_pred))\n",
    "print(\"Precision:\",metrics.precision_score(Y_test,Y4_pred))\n",
    "print(\"Recall:\",metrics.recall_score(Y_test,Y4_pred))"
   ]
  },
  {
   "cell_type": "code",
   "execution_count": 1296,
   "id": "ead91835",
   "metadata": {},
   "outputs": [
    {
     "data": {
      "text/plain": [
       "Text(0.5, 257.44, 'Predicted label')"
      ]
     },
     "execution_count": 1296,
     "metadata": {},
     "output_type": "execute_result"
    },
    {
     "data": {
      "image/png": "[encoded data removed]",
      "text/plain": [
       "<Figure size 432x288 with 2 Axes>"
      ]
     },
     "metadata": {
      "needs_background": "light"
     },
     "output_type": "display_data"
    }
   ],
   "source": [
    "#Visualizing model using confusion matrix via matplot.\n",
    "#Again, we will visualize the confusion matrix using Heatmap.\n",
    "class_names = [0,1] # name of classes\n",
    "fig, ax = plt.subplots()\n",
    "tick_marks = np.arange(len(class_names))\n",
    "plt.xticks(tick_marks,class_names)\n",
    "plt.yticks(tick_marks,class_names)# create heatmap\n",
    "sns.heatmap(pd.DataFrame(conf_matrix), annot = True, cmap = \"YlGnBu\", fmt = 'g')\n",
    "ax.xaxis.set_label_position(\"top\")\n",
    "plt.tight_layout()\n",
    "plt.title('Confusion matrix',y = 1.1)\n",
    "plt.ylabel('Actual label')\n",
    "plt.xlabel('Predicted label')"
   ]
  }
 ],
 "metadata": {
  "kernelspec": {
   "display_name": "Python 3",
   "language": "python",
   "name": "python3"
  },
  "language_info": {
   "codemirror_mode": {
    "name": "ipython",
    "version": 3
   },
   "file_extension": ".py",
   "mimetype": "text/x-python",
   "name": "python",
   "nbconvert_exporter": "python",
   "pygments_lexer": "ipython3",
   "version": "3.8.8"
  }
 },
 "nbformat": 4,
 "nbformat_minor": 5
}
